{
 "cells": [
  {
   "cell_type": "markdown",
   "metadata": {},
   "source": [
    "<!-- dom:TITLE: Eksempel på bruk av numeriske skjema for å løse en differensiallikning for strikkhopp -->\n",
    "# Eksempel på bruk av numeriske skjema for å løse en differensiallikning for strikkhopp\n",
    "<!-- dom:AUTHOR: Hake -->\n",
    "<!-- Author: --> **Hake**\n",
    "\n",
    "Date: **29.03.2016**\n",
    "\n",
    "Vi ser på et enkelt skjema for å modellere et strikkhopp.\n",
    "\n",
    "## Modellen\n",
    "Her bruker vi bevegelseslikningene for å modellere et strikkhopp, men i steden for å bruke konstant akselerasjon oppdateres den for hvert tidssteg.\n",
    "\n",
    "Akselerasjonen finner vi fra Newtons 2e lov:"
   ]
  },
  {
   "cell_type": "markdown",
   "metadata": {},
   "source": [
    "<!-- Equation labels as ordinary links -->\n",
    "<div id=\"_auto1\"></div>\n",
    "\n",
    "$$\n",
    "\\begin{equation}\n",
    "\\sum F = m\\cdot a\n",
    "\\label{_auto1} \\tag{1}\n",
    "\\end{equation}\n",
    "$$"
   ]
  },
  {
   "cell_type": "markdown",
   "metadata": {},
   "source": [
    "<!-- Equation labels as ordinary links -->\n",
    "<div id=\"_auto2\"></div>\n",
    "\n",
    "$$\n",
    "\\begin{equation} \n",
    "a = \\frac{\\sum F}{m}\n",
    "\\label{_auto2} \\tag{2}\n",
    "\\end{equation}\n",
    "$$"
   ]
  },
  {
   "cell_type": "markdown",
   "metadata": {},
   "source": [
    "Summen av kreftene $\\sum F$ er i dette tilfellet lik gravitasjonen, $G=-m\\cdot g$ + strikkraften, $S=-k\\cdot v$ og luftmotstandet $L=-D\\cdot v$. Se også illustrasjon:\n",
    "\n",
    "<!-- dom:FIGURE: [fig/strikkhopp.png, width=400 frac=0.6] Krefter som virker på vår strikkhopper -->\n",
    "<!-- begin figure -->\n",
    "\n",
    "<p>Krefter som virker på vår strikkhopper</p>\n",
    "<img src=\"fig/strikkhopp.png\" width=400>\n",
    "\n",
    "<!-- end figure -->\n",
    "\n",
    "\n",
    "## Implementasjon\n",
    "\n",
    "<!-- Note: Plain Markdown cannot refer to equations with numbers. -->\n",
    "<!-- This is a DocOnce extension. -->\n",
    "\n",
    "<!-- can be implemented as follows in a Python function: -->\n",
    "\n",
    "<!-- Next code (hidden code): -->\n",
    "<!-- Not strictly needed since zeros inside the next function -->\n",
    "<!-- is not called before the main program has imported zeros... -->\n",
    "<!-- But in general one may need special imports for the next -->\n",
    "<!-- code segments to execute properly. -->"
   ]
  },
  {
   "cell_type": "code",
   "execution_count": 1,
   "metadata": {
    "collapsed": false
   },
   "outputs": [],
   "source": [
    "# Inline plotting inne i jupyter!\n",
    "%matplotlib inline\n",
    "\n",
    "# Importerer numeriske metoder vi trenger\n",
    "from pylab import *\n",
    "\n",
    "# Parametrar\n",
    "v0 = 0.0    # Utgangsfart\n",
    "x0 = 20     # Utgangshøyde\n",
    "            \n",
    "m  = 70.    # Masse\n",
    "g  = 9.81   # Tyngdens akselerasjon\n",
    "k  = 40     # Strikkonstanten\n",
    "D  = 10     # Luftmotstandskonstant\n",
    "xL = 40     # Strikklengde\n",
    "\n",
    "dt = 1e-3   # Tidssteg\n",
    "tstop = 60  # Hvor lenge skall simuleringen vare?\n",
    "N = int(ceil(tstop/dt))\t# Lengde på liste \n",
    "\n",
    "# Initialiserer lister som skall ha løsningene\n",
    "v = zeros(N+1)\n",
    "x = zeros(N+1)\n",
    "t = linspace(0, tstop, N+1)\n",
    "\n",
    "# Setter første elementet i listene til utgangsfarten og utgangshøyden \n",
    "v[0] = v0\n",
    "x[0] = x0\n",
    "\n",
    "# Funksjon som regner ut strikkraften\n",
    "def S(x):\n",
    "    # Ikke noen kraft hvis strikken er slak!\n",
    "    if x0 - x > xL:\n",
    "        return 0\n",
    "    else:\n",
    "        return -k*x\n",
    "\n",
    "# Funksjon som regner ut akselerasjonen.\n",
    "def a(x, v):\n",
    "    return S(x)/m - g - D/m*v\n",
    "\n",
    "# Algoritmen for å løse for hvert tidssteg\n",
    "for i in range(N):\n",
    "    v[i+1] = v[i] + a(x[i], v[i])*dt\n",
    "    x[i+1] = x[i] + v[i]*dt + 0.5*a(x[i], v[i])*dt**2\n",
    "\n",
    "# Plotter posisjonen\n",
    "plot(t, x)\n",
    "grid()\n",
    "show()"
   ]
  }
 ],
 "metadata": {
  "kernelspec": {
   "display_name": "Python 2",
   "language": "python",
   "name": "python2"
  },
  "language_info": {
   "codemirror_mode": {
    "name": "ipython",
    "version": 2
   },
   "file_extension": ".py",
   "mimetype": "text/x-python",
   "name": "python",
   "nbconvert_exporter": "python",
   "pygments_lexer": "ipython2",
   "version": "2.7.10"
  }
 },
 "nbformat": 4,
 "nbformat_minor": 0
}
